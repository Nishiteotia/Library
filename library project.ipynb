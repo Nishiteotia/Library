{
 "cells": [
  {
   "cell_type": "code",
   "execution_count": null,
   "id": "7c5583f2",
   "metadata": {},
   "outputs": [
    {
     "name": "stdout",
     "output_type": "stream",
     "text": [
      "Enter a name:Nishi\n",
      "Enter a choice:1\n",
      "Books present in the library are:\n",
      "maths\n",
      "PDS\n",
      "python\n",
      "R\n",
      "STATISTICS\n",
      "Physics\n",
      "welcome\n",
      "Enter a choice:2\n",
      "enter the name of the book you want to borrow:maths\n",
      "you have been issued maths.Please keep it safe and return it within 30 days\n",
      "welcome\n",
      "Enter a choice:2\n"
     ]
    }
   ],
   "source": [
    "# student library\n",
    "class Library:\n",
    "    a=str(input(\"Enter a name:\"))\n",
    "    def __init__(self,listOfBooks):\n",
    "        self.books=listOfBooks\n",
    "    def displayAvailableBooks(self):\n",
    "        print(\"Books present in the library are:\")\n",
    "        for book in self.books:\n",
    "            print(book)\n",
    "            \n",
    "    def borrowBook(self,bookName):\n",
    "        if bookName in self.books:\n",
    "            print(f\"you have been issued {bookName}.Please keep it safe and return it within 30 days\")\n",
    "            self.books.remove(bookName)\n",
    "            return True\n",
    "        else:\n",
    "            print(\"sorry,this book  is either not available or has already been issued to someone else. Please wait until the book is available\")\n",
    "            return False\n",
    "    def returnBook(self,bookName):\n",
    "        self.books.append(bookName)\n",
    "        print(\"Thanks for returning this book! Hope you enjoyed reading it.\")\n",
    "class Student:\n",
    "    def requestBook(self):\n",
    "        self.book=input(\"enter the name of the book you want to borrow:\")\n",
    "        return self.book\n",
    "    def returnBook(self):\n",
    "        self.book=input(\"Enter the name of book you want to return: \")\n",
    "        return self.book\n",
    "if __name__==\"__main__\":\n",
    "    centralLibrary=Library([\"maths\",\"PDS\",\"python\",\"R\",\"STATISTICS\",\"Physics\"])\n",
    "    student=Student()\n",
    "    #centralLibrary.displayAvailableBooks()\n",
    "    while(True):\n",
    "        welcomeMsg = '''*****Welcome to central Library*****\n",
    "        Please choose an option:\n",
    "        1.Listing all the books\n",
    "        2.Request a book\n",
    "        3.Add/Return  a book\n",
    "        4.Exit the Library'''\n",
    "        a=int(input(\"Enter a choice:\"))\n",
    "        if a==1:\n",
    "            centralLibrary.displayAvailableBooks()\n",
    "        elif a==2:\n",
    "            centralLibrary.borrowBook(student.requestBook())\n",
    "        elif a==3:\n",
    "            centralLibrary.returnBook(student.returnBook())\n",
    "        elif a==4:\n",
    "            print(\"Thanks for using this library! Have a great day ahead\")\n",
    "            exit()\n",
    "        else:\n",
    "            print(\"Invalid choice\")\n",
    "        print(\"welcome\")\n",
    "    \n",
    "        "
   ]
  },
  {
   "cell_type": "code",
   "execution_count": null,
   "id": "21ed83f9",
   "metadata": {},
   "outputs": [],
   "source": []
  }
 ],
 "metadata": {
  "kernelspec": {
   "display_name": "Python 3 (ipykernel)",
   "language": "python",
   "name": "python3"
  },
  "language_info": {
   "codemirror_mode": {
    "name": "ipython",
    "version": 3
   },
   "file_extension": ".py",
   "mimetype": "text/x-python",
   "name": "python",
   "nbconvert_exporter": "python",
   "pygments_lexer": "ipython3",
   "version": "3.9.12"
  }
 },
 "nbformat": 4,
 "nbformat_minor": 5
}
